{
 "cells": [
  {
   "cell_type": "markdown",
   "id": "de6975bb-dd26-40a4-a5b7-236de2e6c697",
   "metadata": {},
   "source": [
    "# 0. Khai báo các thư viện"
   ]
  },
  {
   "cell_type": "code",
   "execution_count": 1,
   "id": "c358500d-5360-470d-834b-deda67feb195",
   "metadata": {},
   "outputs": [],
   "source": [
    "import pandas as pd\n",
    "from scipy import stats\n",
    "import math"
   ]
  },
  {
   "cell_type": "markdown",
   "id": "9b8184df-3d2a-4c06-bed0-d7a6b43710dc",
   "metadata": {},
   "source": [
    "# 1. Đọc dữ liệu từ file CSV"
   ]
  },
  {
   "cell_type": "code",
   "execution_count": 2,
   "id": "20c33ff1-aebc-4b04-9c42-ca331c1a5457",
   "metadata": {},
   "outputs": [
    {
     "data": {
      "text/html": [
       "<div>\n",
       "<style scoped>\n",
       "    .dataframe tbody tr th:only-of-type {\n",
       "        vertical-align: middle;\n",
       "    }\n",
       "\n",
       "    .dataframe tbody tr th {\n",
       "        vertical-align: top;\n",
       "    }\n",
       "\n",
       "    .dataframe thead th {\n",
       "        text-align: right;\n",
       "    }\n",
       "</style>\n",
       "<table border=\"1\" class=\"dataframe\">\n",
       "  <thead>\n",
       "    <tr style=\"text-align: right;\">\n",
       "      <th></th>\n",
       "      <th>area</th>\n",
       "      <th>price</th>\n",
       "      <th>postDate</th>\n",
       "      <th>land_certificate</th>\n",
       "      <th>house_direction</th>\n",
       "      <th>balcony_direction</th>\n",
       "      <th>toilet</th>\n",
       "      <th>bedroom</th>\n",
       "      <th>floor</th>\n",
       "      <th>lat</th>\n",
       "      <th>long</th>\n",
       "      <th>property_type</th>\n",
       "    </tr>\n",
       "  </thead>\n",
       "  <tbody>\n",
       "    <tr>\n",
       "      <th>0</th>\n",
       "      <td>50.0</td>\n",
       "      <td>14700.0</td>\n",
       "      <td>44197</td>\n",
       "      <td>So do</td>\n",
       "      <td>NaN</td>\n",
       "      <td>NaN</td>\n",
       "      <td>4.0</td>\n",
       "      <td>6.0</td>\n",
       "      <td>6.0</td>\n",
       "      <td>21.015698</td>\n",
       "      <td>105.824583</td>\n",
       "      <td>trong ngo</td>\n",
       "    </tr>\n",
       "    <tr>\n",
       "      <th>1</th>\n",
       "      <td>57.0</td>\n",
       "      <td>4200.0</td>\n",
       "      <td>44265</td>\n",
       "      <td>So do</td>\n",
       "      <td>Nam</td>\n",
       "      <td>Nam</td>\n",
       "      <td>3.0</td>\n",
       "      <td>8.0</td>\n",
       "      <td>4.0</td>\n",
       "      <td>21.025208</td>\n",
       "      <td>105.833111</td>\n",
       "      <td>trong ngo</td>\n",
       "    </tr>\n",
       "    <tr>\n",
       "      <th>2</th>\n",
       "      <td>62.0</td>\n",
       "      <td>11000.0</td>\n",
       "      <td>44268</td>\n",
       "      <td>So do</td>\n",
       "      <td>NaN</td>\n",
       "      <td>dong-Nam</td>\n",
       "      <td>6.0</td>\n",
       "      <td>5.0</td>\n",
       "      <td>6.0</td>\n",
       "      <td>21.025379</td>\n",
       "      <td>105.801011</td>\n",
       "      <td>trong ngo</td>\n",
       "    </tr>\n",
       "    <tr>\n",
       "      <th>3</th>\n",
       "      <td>26.0</td>\n",
       "      <td>2900.0</td>\n",
       "      <td>44292</td>\n",
       "      <td>So do</td>\n",
       "      <td>NaN</td>\n",
       "      <td>NaN</td>\n",
       "      <td>4.0</td>\n",
       "      <td>3.0</td>\n",
       "      <td>4.0</td>\n",
       "      <td>21.014325</td>\n",
       "      <td>105.834918</td>\n",
       "      <td>trong ngo</td>\n",
       "    </tr>\n",
       "    <tr>\n",
       "      <th>4</th>\n",
       "      <td>40.0</td>\n",
       "      <td>3950.0</td>\n",
       "      <td>44292</td>\n",
       "      <td>So do</td>\n",
       "      <td>NaN</td>\n",
       "      <td>NaN</td>\n",
       "      <td>NaN</td>\n",
       "      <td>NaN</td>\n",
       "      <td>5.0</td>\n",
       "      <td>21.009862</td>\n",
       "      <td>105.838083</td>\n",
       "      <td>trong ngo</td>\n",
       "    </tr>\n",
       "  </tbody>\n",
       "</table>\n",
       "</div>"
      ],
      "text/plain": [
       "   area    price  postDate land_certificate house_direction balcony_direction  \\\n",
       "0  50.0  14700.0     44197            So do             NaN               NaN   \n",
       "1  57.0   4200.0     44265            So do             Nam               Nam   \n",
       "2  62.0  11000.0     44268            So do             NaN          dong-Nam   \n",
       "3  26.0   2900.0     44292            So do             NaN               NaN   \n",
       "4  40.0   3950.0     44292            So do             NaN               NaN   \n",
       "\n",
       "   toilet  bedroom  floor        lat        long property_type  \n",
       "0     4.0      6.0    6.0  21.015698  105.824583     trong ngo  \n",
       "1     3.0      8.0    4.0  21.025208  105.833111     trong ngo  \n",
       "2     6.0      5.0    6.0  21.025379  105.801011     trong ngo  \n",
       "3     4.0      3.0    4.0  21.014325  105.834918     trong ngo  \n",
       "4     NaN      NaN    5.0  21.009862  105.838083     trong ngo  "
      ]
     },
     "execution_count": 2,
     "metadata": {},
     "output_type": "execute_result"
    }
   ],
   "source": [
    "df = pd.read_csv(\"https://s3.ap-southeast-1.amazonaws.com/learn.codegym.vn/media/public/2022/01/08185827/house_price_Do%CC%82%CC%81ng-Da_Ha%CC%80-No%CC%A3%CC%82i_subdata.csv\", encoding = \"ISO-8859-1\")\n",
    "df.head()"
   ]
  },
  {
   "cell_type": "code",
   "execution_count": 3,
   "id": "53ddf260-8754-4630-8ecc-1c18516905f6",
   "metadata": {},
   "outputs": [
    {
     "name": "stdout",
     "output_type": "stream",
     "text": [
      "<class 'pandas.core.frame.DataFrame'>\n",
      "RangeIndex: 671 entries, 0 to 670\n",
      "Data columns (total 12 columns):\n",
      " #   Column             Non-Null Count  Dtype  \n",
      "---  ------             --------------  -----  \n",
      " 0   area               665 non-null    float64\n",
      " 1   price              617 non-null    float64\n",
      " 2   postDate           671 non-null    int64  \n",
      " 3   land_certificate   369 non-null    object \n",
      " 4   house_direction    42 non-null     object \n",
      " 5   balcony_direction  24 non-null     object \n",
      " 6   toilet             240 non-null    float64\n",
      " 7   bedroom            320 non-null    float64\n",
      " 8   floor              366 non-null    float64\n",
      " 9   lat                671 non-null    float64\n",
      " 10  long               671 non-null    float64\n",
      " 11  property_type      671 non-null    object \n",
      "dtypes: float64(7), int64(1), object(4)\n",
      "memory usage: 63.0+ KB\n"
     ]
    }
   ],
   "source": [
    "df.info()"
   ]
  },
  {
   "cell_type": "markdown",
   "id": "56db6fd8-5690-4e80-9cd5-92d6372c4e45",
   "metadata": {},
   "source": [
    "# 2. Giữa giá nhà và diện tích có tương quan với nhau"
   ]
  },
  {
   "cell_type": "code",
   "execution_count": 4,
   "id": "a464d90a-0e44-45c9-9964-8d431ba6e8d2",
   "metadata": {},
   "outputs": [],
   "source": [
    "df1 = df.loc[:, [\"price\", \"area\"]]\n",
    "df1.dropna(inplace = True)"
   ]
  },
  {
   "cell_type": "markdown",
   "id": "c8dfa9db-f66c-4962-ae3f-21524d7831b9",
   "metadata": {},
   "source": [
    "Do giá nhà và diện tích là hai thuộc tính định lượng nên sử dụng kiểm định Pearson\n",
    "- Giả thuyết không: Giá nhà và diện tích không có tương quan với nhau\n",
    "- Giả thuyết đối: Giá nhà và diện tích có tương quan với nhau"
   ]
  },
  {
   "cell_type": "code",
   "execution_count": 5,
   "id": "b66e9cd9-fd26-4370-bb7a-595efbb27105",
   "metadata": {},
   "outputs": [
    {
     "data": {
      "text/plain": [
       "(0.2285210190679815, 9.947613326077628e-09)"
      ]
     },
     "execution_count": 5,
     "metadata": {},
     "output_type": "execute_result"
    }
   ],
   "source": [
    "stats.pearsonr(df1.price, df1.area)"
   ]
  },
  {
   "cell_type": "markdown",
   "id": "f9a0fb1c-5c73-40ef-91a8-643bb9f75529",
   "metadata": {},
   "source": [
    "Do pvalue ~ 0 < 0.05, nhưng giá trị r = 0.22 nên có tương quan tuyến tính yếu"
   ]
  },
  {
   "cell_type": "markdown",
   "id": "351a5912-9bdb-454b-99bd-9c27e9bc20f6",
   "metadata": {},
   "source": [
    "# 3. Giữa giá nhà và tọa độ địa lý (lat, long) có tương quan với nhau"
   ]
  },
  {
   "cell_type": "code",
   "execution_count": 6,
   "id": "d2c39939-d396-4c7d-98e1-33cc39e82baa",
   "metadata": {},
   "outputs": [],
   "source": [
    "df2 = df.loc[:, [\"price\", \"long\", \"lat\"]]\n",
    "df2.dropna(inplace = True)"
   ]
  },
  {
   "cell_type": "code",
   "execution_count": 7,
   "id": "fcddfc16-32e7-4182-a56e-745fdb0fc6f4",
   "metadata": {},
   "outputs": [
    {
     "data": {
      "text/plain": [
       "count    617.000000\n",
       "mean     105.825342\n",
       "std        0.009132\n",
       "min      105.795544\n",
       "25%      105.822425\n",
       "50%      105.828921\n",
       "75%      105.829949\n",
       "max      105.841407\n",
       "Name: long, dtype: float64"
      ]
     },
     "execution_count": 7,
     "metadata": {},
     "output_type": "execute_result"
    }
   ],
   "source": [
    "df2.long.describe()"
   ]
  },
  {
   "cell_type": "code",
   "execution_count": 8,
   "id": "e7f70665-6391-4858-830f-c62821e6696e",
   "metadata": {},
   "outputs": [
    {
     "data": {
      "text/plain": [
       "count    617.000000\n",
       "mean      21.015482\n",
       "std        0.006604\n",
       "min       20.998499\n",
       "25%       21.009862\n",
       "50%       21.017799\n",
       "75%       21.018995\n",
       "max       21.036845\n",
       "Name: lat, dtype: float64"
      ]
     },
     "execution_count": 8,
     "metadata": {},
     "output_type": "execute_result"
    }
   ],
   "source": [
    "df2.lat.describe()"
   ]
  },
  {
   "cell_type": "code",
   "execution_count": 9,
   "id": "39e61434-cde0-462f-a6d3-079b8670cf12",
   "metadata": {},
   "outputs": [],
   "source": [
    "# Biến đổi toạ độ thành giá trị khoảng cách.\n",
    "df2[\"distance\"] = (df2.long ** 2 + df2.lat ** 2) ** 0.5"
   ]
  },
  {
   "cell_type": "code",
   "execution_count": 10,
   "id": "659154df-dbbe-48be-b462-040a5e4d038d",
   "metadata": {},
   "outputs": [
    {
     "data": {
      "text/plain": [
       "(0.06514579858354355, 0.10595941259379761)"
      ]
     },
     "execution_count": 10,
     "metadata": {},
     "output_type": "execute_result"
    }
   ],
   "source": [
    "stats.pearsonr(df2.price, df2.distance)"
   ]
  },
  {
   "cell_type": "markdown",
   "id": "8db77dd0-0cfe-48ea-94d6-8706bee84749",
   "metadata": {},
   "source": [
    "Do pvalue = 0.1 > 0.05 nên không có tương quan với nhau"
   ]
  },
  {
   "cell_type": "markdown",
   "id": "6aa8a02f-45b9-442c-bdd0-e1ee99cfa27f",
   "metadata": {},
   "source": [
    "# 4. Giữa thuộc tính land_certificate và property_type có tương quan với nhau"
   ]
  },
  {
   "cell_type": "code",
   "execution_count": 11,
   "id": "9fe79711-be2b-4a1b-822c-69dabde8a894",
   "metadata": {},
   "outputs": [],
   "source": [
    "df3 = df.loc[:, [\"land_certificate\", \"property_type\"]]\n",
    "df3.fillna(\"Unknown\", inplace = True)"
   ]
  },
  {
   "cell_type": "code",
   "execution_count": 12,
   "id": "f2455396-31ef-4610-a132-8a9460843d4c",
   "metadata": {},
   "outputs": [
    {
     "name": "stdout",
     "output_type": "stream",
     "text": [
      "<class 'pandas.core.frame.DataFrame'>\n",
      "RangeIndex: 671 entries, 0 to 670\n",
      "Data columns (total 2 columns):\n",
      " #   Column            Non-Null Count  Dtype \n",
      "---  ------            --------------  ----- \n",
      " 0   land_certificate  671 non-null    object\n",
      " 1   property_type     671 non-null    object\n",
      "dtypes: object(2)\n",
      "memory usage: 10.6+ KB\n"
     ]
    }
   ],
   "source": [
    "df3.info()"
   ]
  },
  {
   "cell_type": "markdown",
   "id": "e82e95a9-4f8d-40fd-a8ef-03df7ac65f17",
   "metadata": {},
   "source": [
    "Do land_certificate và property_type là hai thuộc tính định tính nên sử dụng kiểm định Chi bình phương để kiểm định.\n",
    "- Giả thuyết không: Hai thuộc tính không có tương quan vơi nhau\n",
    "- Giả thuyết đối: hai thuộc tính có tương quan với nhau"
   ]
  },
  {
   "cell_type": "code",
   "execution_count": 13,
   "id": "4eec07ad-8874-417b-af75-fa67d30fd4d4",
   "metadata": {},
   "outputs": [
    {
     "data": {
      "text/html": [
       "<div>\n",
       "<style scoped>\n",
       "    .dataframe tbody tr th:only-of-type {\n",
       "        vertical-align: middle;\n",
       "    }\n",
       "\n",
       "    .dataframe tbody tr th {\n",
       "        vertical-align: top;\n",
       "    }\n",
       "\n",
       "    .dataframe thead th {\n",
       "        text-align: right;\n",
       "    }\n",
       "</style>\n",
       "<table border=\"1\" class=\"dataframe\">\n",
       "  <thead>\n",
       "    <tr style=\"text-align: right;\">\n",
       "      <th>property_type</th>\n",
       "      <th>mat pho</th>\n",
       "      <th>trong ngo</th>\n",
       "    </tr>\n",
       "    <tr>\n",
       "      <th>land_certificate</th>\n",
       "      <th></th>\n",
       "      <th></th>\n",
       "    </tr>\n",
       "  </thead>\n",
       "  <tbody>\n",
       "    <tr>\n",
       "      <th>So do</th>\n",
       "      <td>114</td>\n",
       "      <td>255</td>\n",
       "    </tr>\n",
       "    <tr>\n",
       "      <th>Unknown</th>\n",
       "      <td>108</td>\n",
       "      <td>194</td>\n",
       "    </tr>\n",
       "  </tbody>\n",
       "</table>\n",
       "</div>"
      ],
      "text/plain": [
       "property_type     mat pho  trong ngo\n",
       "land_certificate                    \n",
       "So do                 114        255\n",
       "Unknown               108        194"
      ]
     },
     "execution_count": 13,
     "metadata": {},
     "output_type": "execute_result"
    }
   ],
   "source": [
    "contigency = pd.crosstab(df3.land_certificate, df3.property_type)\n",
    "contigency"
   ]
  },
  {
   "cell_type": "code",
   "execution_count": 14,
   "id": "3a215992-6e89-4820-b7d8-5b9075465796",
   "metadata": {},
   "outputs": [
    {
     "name": "stdout",
     "output_type": "stream",
     "text": [
      "(1.564117781583915, 0.21106331497658828, 1, array([[122.08345753, 246.91654247],\n",
      "       [ 99.91654247, 202.08345753]]))\n"
     ]
    }
   ],
   "source": [
    "print(stats.chi2_contingency(contigency))"
   ]
  },
  {
   "cell_type": "markdown",
   "id": "ffd9f7ce-56d7-48b7-abb5-bd70448c994b",
   "metadata": {},
   "source": [
    "Do pvalue = 0.2 > 0.05 nên không có tính tương quan giữa land_certificate và property_type"
   ]
  },
  {
   "cell_type": "markdown",
   "id": "f88b49f4-988f-4dbc-85b7-b26dbe600e63",
   "metadata": {},
   "source": [
    "# 5. Hãy  mã hóa lại thuộc tính giá nhà theo đơn vị (nghìn đồng/m2) và sắp xếp giá nhà thành 4 mức tương ứng với các khoảng tứ phân vị. Tiến hành kiểm định tương quan giữa biến giá nhà này với các biến tọa độ vị trí (lat, long)"
   ]
  },
  {
   "cell_type": "code",
   "execution_count": 15,
   "id": "aae62d2a-c0c0-419c-af19-0d1c0301978f",
   "metadata": {},
   "outputs": [
    {
     "name": "stdout",
     "output_type": "stream",
     "text": [
      "<class 'pandas.core.frame.DataFrame'>\n",
      "Int64Index: 617 entries, 0 to 670\n",
      "Data columns (total 4 columns):\n",
      " #   Column    Non-Null Count  Dtype  \n",
      "---  ------    --------------  -----  \n",
      " 0   price     617 non-null    float64\n",
      " 1   long      617 non-null    float64\n",
      " 2   lat       617 non-null    float64\n",
      " 3   distance  617 non-null    float64\n",
      "dtypes: float64(4)\n",
      "memory usage: 24.1 KB\n"
     ]
    }
   ],
   "source": [
    "df2.info()"
   ]
  },
  {
   "cell_type": "code",
   "execution_count": 16,
   "id": "b4266156-a1fa-473d-9454-d9e5c73b5366",
   "metadata": {},
   "outputs": [],
   "source": [
    "# Tiến hành tính các khoảng tứ phân vị của price\n",
    "q1, q2, q3 = df2.price.quantile(0.25), df2.price.quantile(0.5), df2.price.quantile(0.75)"
   ]
  },
  {
   "cell_type": "code",
   "execution_count": 17,
   "id": "79fbf23e-7b28-4eb3-a513-9c89e866dda1",
   "metadata": {},
   "outputs": [],
   "source": [
    "# Biến đổi Price thành cat\n",
    "def change_price_cat(series):\n",
    "    if series < q1:\n",
    "        return 1\n",
    "    elif q1 <= series < q2:\n",
    "        return 2\n",
    "    elif q2 <= series < q3:\n",
    "        return 3\n",
    "    else:\n",
    "        return 4\n",
    "\n",
    "df2[\"price_cat\"] = df2.price.apply(change_price_cat)"
   ]
  },
  {
   "cell_type": "code",
   "execution_count": 18,
   "id": "64b94e75-d332-488b-acd1-0fa3dcce6009",
   "metadata": {},
   "outputs": [
    {
     "name": "stdout",
     "output_type": "stream",
     "text": [
      "<class 'pandas.core.frame.DataFrame'>\n",
      "Int64Index: 617 entries, 0 to 670\n",
      "Data columns (total 5 columns):\n",
      " #   Column     Non-Null Count  Dtype  \n",
      "---  ------     --------------  -----  \n",
      " 0   price      617 non-null    float64\n",
      " 1   long       617 non-null    float64\n",
      " 2   lat        617 non-null    float64\n",
      " 3   distance   617 non-null    float64\n",
      " 4   price_cat  617 non-null    int64  \n",
      "dtypes: float64(4), int64(1)\n",
      "memory usage: 28.9 KB\n"
     ]
    }
   ],
   "source": [
    "df2.info()"
   ]
  },
  {
   "cell_type": "markdown",
   "id": "631cadd4-82cd-41d8-b1ff-30b4d41aa5f2",
   "metadata": {},
   "source": [
    "Do price_cat là thuộc tính thứ bậc và distance là thuộc tính liên tục nên sử dụng kiểm định spearman\n",
    "- Giả thuyết không: price_cat và distance không tương quan với nhau\n",
    "- Giả thuyết đối: price_cat và distance có liên quan với nhau"
   ]
  },
  {
   "cell_type": "code",
   "execution_count": 19,
   "id": "398fa280-74cf-4de8-95d7-43791a56d352",
   "metadata": {},
   "outputs": [
    {
     "data": {
      "text/plain": [
       "SpearmanrResult(correlation=-0.20389996449656927, pvalue=3.2513963641313107e-07)"
      ]
     },
     "execution_count": 19,
     "metadata": {},
     "output_type": "execute_result"
    }
   ],
   "source": [
    "stats.spearmanr(df2.price_cat, df2.distance)"
   ]
  },
  {
   "cell_type": "markdown",
   "id": "0e1d35ed-9342-419e-bf1f-68a37147464b",
   "metadata": {},
   "source": [
    "Do pvalue ~ 0 < 0.05 nên hai thuộc tính có tương quan và tương quan tuyến tính yếu"
   ]
  },
  {
   "cell_type": "code",
   "execution_count": null,
   "id": "99a79924-4fad-4049-88e3-3c4a7f7a564d",
   "metadata": {},
   "outputs": [],
   "source": []
  },
  {
   "cell_type": "code",
   "execution_count": null,
   "id": "84a0226c-13b9-421d-a989-faf6ff723ebd",
   "metadata": {},
   "outputs": [],
   "source": []
  }
 ],
 "metadata": {
  "kernelspec": {
   "display_name": "Python 3 (ipykernel)",
   "language": "python",
   "name": "python3"
  },
  "language_info": {
   "codemirror_mode": {
    "name": "ipython",
    "version": 3
   },
   "file_extension": ".py",
   "mimetype": "text/x-python",
   "name": "python",
   "nbconvert_exporter": "python",
   "pygments_lexer": "ipython3",
   "version": "3.10.1"
  }
 },
 "nbformat": 4,
 "nbformat_minor": 5
}
