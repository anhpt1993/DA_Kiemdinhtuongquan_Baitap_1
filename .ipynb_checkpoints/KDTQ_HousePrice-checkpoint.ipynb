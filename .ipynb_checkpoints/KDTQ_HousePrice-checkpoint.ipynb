{
 "cells": [
  {
   "cell_type": "markdown",
   "id": "de6975bb-dd26-40a4-a5b7-236de2e6c697",
   "metadata": {},
   "source": [
    "# 0. Khai báo các thư viện"
   ]
  },
  {
   "cell_type": "code",
   "execution_count": 1,
   "id": "c358500d-5360-470d-834b-deda67feb195",
   "metadata": {},
   "outputs": [],
   "source": [
    "import pandas as pd\n",
    "from scipy import stats\n",
    "import math"
   ]
  },
  {
   "cell_type": "markdown",
   "id": "9b8184df-3d2a-4c06-bed0-d7a6b43710dc",
   "metadata": {},
   "source": [
    "# 1. Đọc dữ liệu từ file CSV"
   ]
  },
  {
   "cell_type": "code",
   "execution_count": 3,
   "id": "20c33ff1-aebc-4b04-9c42-ca331c1a5457",
   "metadata": {},
   "outputs": [
    {
     "data": {
      "text/html": [
       "<div>\n",
       "<style scoped>\n",
       "    .dataframe tbody tr th:only-of-type {\n",
       "        vertical-align: middle;\n",
       "    }\n",
       "\n",
       "    .dataframe tbody tr th {\n",
       "        vertical-align: top;\n",
       "    }\n",
       "\n",
       "    .dataframe thead th {\n",
       "        text-align: right;\n",
       "    }\n",
       "</style>\n",
       "<table border=\"1\" class=\"dataframe\">\n",
       "  <thead>\n",
       "    <tr style=\"text-align: right;\">\n",
       "      <th></th>\n",
       "      <th>area</th>\n",
       "      <th>price</th>\n",
       "      <th>postDate</th>\n",
       "      <th>land_certificate</th>\n",
       "      <th>house_direction</th>\n",
       "      <th>balcony_direction</th>\n",
       "      <th>toilet</th>\n",
       "      <th>bedroom</th>\n",
       "      <th>floor</th>\n",
       "      <th>lat</th>\n",
       "      <th>long</th>\n",
       "      <th>property_type</th>\n",
       "    </tr>\n",
       "  </thead>\n",
       "  <tbody>\n",
       "    <tr>\n",
       "      <th>0</th>\n",
       "      <td>50.0</td>\n",
       "      <td>14700.0</td>\n",
       "      <td>44197</td>\n",
       "      <td>So do</td>\n",
       "      <td>NaN</td>\n",
       "      <td>NaN</td>\n",
       "      <td>4.0</td>\n",
       "      <td>6.0</td>\n",
       "      <td>6.0</td>\n",
       "      <td>21.015698</td>\n",
       "      <td>105.824583</td>\n",
       "      <td>trong ngo</td>\n",
       "    </tr>\n",
       "    <tr>\n",
       "      <th>1</th>\n",
       "      <td>57.0</td>\n",
       "      <td>4200.0</td>\n",
       "      <td>44265</td>\n",
       "      <td>So do</td>\n",
       "      <td>Nam</td>\n",
       "      <td>Nam</td>\n",
       "      <td>3.0</td>\n",
       "      <td>8.0</td>\n",
       "      <td>4.0</td>\n",
       "      <td>21.025208</td>\n",
       "      <td>105.833111</td>\n",
       "      <td>trong ngo</td>\n",
       "    </tr>\n",
       "    <tr>\n",
       "      <th>2</th>\n",
       "      <td>62.0</td>\n",
       "      <td>11000.0</td>\n",
       "      <td>44268</td>\n",
       "      <td>So do</td>\n",
       "      <td>NaN</td>\n",
       "      <td>dong-Nam</td>\n",
       "      <td>6.0</td>\n",
       "      <td>5.0</td>\n",
       "      <td>6.0</td>\n",
       "      <td>21.025379</td>\n",
       "      <td>105.801011</td>\n",
       "      <td>trong ngo</td>\n",
       "    </tr>\n",
       "    <tr>\n",
       "      <th>3</th>\n",
       "      <td>26.0</td>\n",
       "      <td>2900.0</td>\n",
       "      <td>44292</td>\n",
       "      <td>So do</td>\n",
       "      <td>NaN</td>\n",
       "      <td>NaN</td>\n",
       "      <td>4.0</td>\n",
       "      <td>3.0</td>\n",
       "      <td>4.0</td>\n",
       "      <td>21.014325</td>\n",
       "      <td>105.834918</td>\n",
       "      <td>trong ngo</td>\n",
       "    </tr>\n",
       "    <tr>\n",
       "      <th>4</th>\n",
       "      <td>40.0</td>\n",
       "      <td>3950.0</td>\n",
       "      <td>44292</td>\n",
       "      <td>So do</td>\n",
       "      <td>NaN</td>\n",
       "      <td>NaN</td>\n",
       "      <td>NaN</td>\n",
       "      <td>NaN</td>\n",
       "      <td>5.0</td>\n",
       "      <td>21.009862</td>\n",
       "      <td>105.838083</td>\n",
       "      <td>trong ngo</td>\n",
       "    </tr>\n",
       "  </tbody>\n",
       "</table>\n",
       "</div>"
      ],
      "text/plain": [
       "   area    price  postDate land_certificate house_direction balcony_direction  \\\n",
       "0  50.0  14700.0     44197            So do             NaN               NaN   \n",
       "1  57.0   4200.0     44265            So do             Nam               Nam   \n",
       "2  62.0  11000.0     44268            So do             NaN          dong-Nam   \n",
       "3  26.0   2900.0     44292            So do             NaN               NaN   \n",
       "4  40.0   3950.0     44292            So do             NaN               NaN   \n",
       "\n",
       "   toilet  bedroom  floor        lat        long property_type  \n",
       "0     4.0      6.0    6.0  21.015698  105.824583     trong ngo  \n",
       "1     3.0      8.0    4.0  21.025208  105.833111     trong ngo  \n",
       "2     6.0      5.0    6.0  21.025379  105.801011     trong ngo  \n",
       "3     4.0      3.0    4.0  21.014325  105.834918     trong ngo  \n",
       "4     NaN      NaN    5.0  21.009862  105.838083     trong ngo  "
      ]
     },
     "execution_count": 3,
     "metadata": {},
     "output_type": "execute_result"
    }
   ],
   "source": [
    "df = pd.read_csv(\"https://s3.ap-southeast-1.amazonaws.com/learn.codegym.vn/media/public/2022/01/08185827/house_price_Do%CC%82%CC%81ng-Da_Ha%CC%80-No%CC%A3%CC%82i_subdata.csv\", encoding = \"ISO-8859-1\")\n",
    "df.head()"
   ]
  },
  {
   "cell_type": "code",
   "execution_count": 4,
   "id": "53ddf260-8754-4630-8ecc-1c18516905f6",
   "metadata": {},
   "outputs": [
    {
     "name": "stdout",
     "output_type": "stream",
     "text": [
      "<class 'pandas.core.frame.DataFrame'>\n",
      "RangeIndex: 671 entries, 0 to 670\n",
      "Data columns (total 12 columns):\n",
      " #   Column             Non-Null Count  Dtype  \n",
      "---  ------             --------------  -----  \n",
      " 0   area               665 non-null    float64\n",
      " 1   price              617 non-null    float64\n",
      " 2   postDate           671 non-null    int64  \n",
      " 3   land_certificate   369 non-null    object \n",
      " 4   house_direction    42 non-null     object \n",
      " 5   balcony_direction  24 non-null     object \n",
      " 6   toilet             240 non-null    float64\n",
      " 7   bedroom            320 non-null    float64\n",
      " 8   floor              366 non-null    float64\n",
      " 9   lat                671 non-null    float64\n",
      " 10  long               671 non-null    float64\n",
      " 11  property_type      671 non-null    object \n",
      "dtypes: float64(7), int64(1), object(4)\n",
      "memory usage: 63.0+ KB\n"
     ]
    }
   ],
   "source": [
    "df.info()"
   ]
  },
  {
   "cell_type": "markdown",
   "id": "56db6fd8-5690-4e80-9cd5-92d6372c4e45",
   "metadata": {},
   "source": [
    "# 2. Giữa giá nhà và diện tích có tương quan với nhau"
   ]
  },
  {
   "cell_type": "code",
   "execution_count": 5,
   "id": "a464d90a-0e44-45c9-9964-8d431ba6e8d2",
   "metadata": {},
   "outputs": [],
   "source": [
    "df1 = df.loc[:, [\"price\", \"area\"]]\n",
    "df1.dropna(inplace = True)"
   ]
  },
  {
   "cell_type": "markdown",
   "id": "c8dfa9db-f66c-4962-ae3f-21524d7831b9",
   "metadata": {},
   "source": [
    "Do giá nhà và diện tích là hai thuộc tính định lượng nên sử dụng kiểm định Pearson\n",
    "- Giả thuyết không: Giá nhà và diện tích không có tương quan với nhau\n",
    "- Giả thuyết đối: Giá nhà và diện tích có tương quan với nhau"
   ]
  },
  {
   "cell_type": "code",
   "execution_count": 6,
   "id": "b66e9cd9-fd26-4370-bb7a-595efbb27105",
   "metadata": {},
   "outputs": [
    {
     "data": {
      "text/plain": [
       "(0.2285210190679815, 9.947613326077628e-09)"
      ]
     },
     "execution_count": 6,
     "metadata": {},
     "output_type": "execute_result"
    }
   ],
   "source": [
    "stats.pearsonr(df1.price, df1.area)"
   ]
  },
  {
   "cell_type": "markdown",
   "id": "f9a0fb1c-5c73-40ef-91a8-643bb9f75529",
   "metadata": {},
   "source": [
    "Do pvalue ~ 0 < 0.05, nhưng giá trị r = 0.22 nên có tương quan tuyến tính yếu"
   ]
  },
  {
   "cell_type": "markdown",
   "id": "351a5912-9bdb-454b-99bd-9c27e9bc20f6",
   "metadata": {},
   "source": [
    "# 3. Giữa giá nhà và tọa độ địa lý (lat, long) có tương quan với nhau"
   ]
  },
  {
   "cell_type": "code",
   "execution_count": 7,
   "id": "d2c39939-d396-4c7d-98e1-33cc39e82baa",
   "metadata": {},
   "outputs": [],
   "source": [
    "df2 = df.loc[:, [\"price\", \"long\", \"lat\"]]\n",
    "df2.dropna(inplace = True)"
   ]
  },
  {
   "cell_type": "code",
   "execution_count": 8,
   "id": "fcddfc16-32e7-4182-a56e-745fdb0fc6f4",
   "metadata": {},
   "outputs": [
    {
     "data": {
      "text/plain": [
       "count    617.000000\n",
       "mean     105.825342\n",
       "std        0.009132\n",
       "min      105.795544\n",
       "25%      105.822425\n",
       "50%      105.828921\n",
       "75%      105.829949\n",
       "max      105.841407\n",
       "Name: long, dtype: float64"
      ]
     },
     "execution_count": 8,
     "metadata": {},
     "output_type": "execute_result"
    }
   ],
   "source": [
    "df2.long.describe()"
   ]
  },
  {
   "cell_type": "code",
   "execution_count": 9,
   "id": "e7f70665-6391-4858-830f-c62821e6696e",
   "metadata": {},
   "outputs": [
    {
     "data": {
      "text/plain": [
       "count    617.000000\n",
       "mean      21.015482\n",
       "std        0.006604\n",
       "min       20.998499\n",
       "25%       21.009862\n",
       "50%       21.017799\n",
       "75%       21.018995\n",
       "max       21.036845\n",
       "Name: lat, dtype: float64"
      ]
     },
     "execution_count": 9,
     "metadata": {},
     "output_type": "execute_result"
    }
   ],
   "source": [
    "df2.lat.describe()"
   ]
  },
  {
   "cell_type": "code",
   "execution_count": null,
   "id": "39e61434-cde0-462f-a6d3-079b8670cf12",
   "metadata": {},
   "outputs": [],
   "source": [
    "# Biến đổi toạ độ thành giá trị khoảng cách."
   ]
  }
 ],
 "metadata": {
  "kernelspec": {
   "display_name": "Python 3 (ipykernel)",
   "language": "python",
   "name": "python3"
  },
  "language_info": {
   "codemirror_mode": {
    "name": "ipython",
    "version": 3
   },
   "file_extension": ".py",
   "mimetype": "text/x-python",
   "name": "python",
   "nbconvert_exporter": "python",
   "pygments_lexer": "ipython3",
   "version": "3.10.1"
  }
 },
 "nbformat": 4,
 "nbformat_minor": 5
}
